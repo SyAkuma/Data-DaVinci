{
 "cells": [
  {
   "cell_type": "markdown",
   "metadata": {},
   "source": [
    "We will learn genetic algorithms in this; and we will write an algorirthm for linear regression for least MAE"
   ]
  },
  {
   "cell_type": "markdown",
   "metadata": {},
   "source": [
    "https://youtu.be/uQj5UNhCPuo?feature=shared\n"
   ]
  },
  {
   "cell_type": "markdown",
   "metadata": {},
   "source": [
    "Watch this video first which will help you understand what genetic algorithms are"
   ]
  },
  {
   "cell_type": "markdown",
   "metadata": {},
   "source": [
    "# Genetic Algorithms\n",
    "\n",
    "Genetic Algorithms (GAs) are optimization and search techniques inspired by the principles of natural selection and evolution. They are used to solve problems that are difficult or infeasible to address with conventional methods. GAs simulate the process of evolution to evolve solutions over successive iterations.\n",
    "\n",
    "## Key Concepts in Genetic Algorithms\n",
    "1. **Population**: A set of candidate solutions to the problem.\n",
    "2. **Chromosome**: A representation of a candidate solution, often encoded as a string (binary, numeric, or symbolic).\n",
    "3. **Genes**: The individual components or parameters of a chromosome.\n",
    "4. **Fitness Function**: A measure of how good a solution is for the given problem.\n",
    "5. **Selection**: Choosing parent solutions from the population based on their fitness.\n",
    "6. **Crossover (Recombination)**: Combining parts of two parent chromosomes to create offspring.\n",
    "7. **Mutation**: Randomly altering genes in a chromosome to maintain genetic diversity.\n",
    "8. **Elitism**: Retaining the best solutions from one generation to the next to preserve quality.\n",
    "\n",
    "## How Genetic Algorithms Work\n",
    "1. **Initialization**: Generate an initial population of candidate solutions randomly or based on some heuristics.\n",
    "2. **Evaluation**: Assess the fitness of each candidate solution using the fitness function.\n",
    "3. **Selection**: Choose the most fit individuals for reproduction.\n",
    "4. **Reproduction**:\n",
    "   - **Crossover**: Create new individuals by combining features of selected parents.\n",
    "   - **Mutation**: Introduce small random changes in offspring.\n",
    "5. **Replacement**: Form a new generation by replacing some or all of the old population with the new one.\n",
    "6. **Iteration**: Repeat the process until a stopping condition is met (e.g., a satisfactory fitness level or a maximum number of generations).\n",
    "\n",
    "## Applications of Genetic Algorithms\n",
    "- **Optimization Problems**: Finding optimal solutions for mathematical, engineering, or financial problems.\n",
    "- **Machine Learning**: Feature selection, hyperparameter tuning, and neural architecture search.\n",
    "- **Scheduling**: Solving complex scheduling problems, such as in manufacturing or airline crew assignments.\n",
    "- **Game Design**: Developing strategies or AI for games.\n",
    "- **Bioinformatics**: Sequence alignment, protein structure prediction, etc.\n",
    "\n",
    "Genetic algorithms are particularly useful for problems with large search spaces, non-linear relationships, or multiple conflicting objectives.\n"
   ]
  },
  {
   "cell_type": "code",
   "execution_count": 1,
   "metadata": {},
   "outputs": [],
   "source": [
    "import random\n",
    "import matplotlib.pyplot as plt\n",
    "import numpy as np"
   ]
  },
  {
   "cell_type": "code",
   "execution_count": null,
   "metadata": {},
   "outputs": [],
   "source": [
    "# Constants\n",
    "PARAMETER = 10\n",
    "LINEAR_REGRESSION_ERROR_RANGE = 3\n",
    "ERROR_RANGE = 1.0001\n",
    "MUTATION_RATE = 0.1\n",
    "NUM_POINTS = 45\n",
    "NUM_ELITES = 2  # Number of best lines to retain across generations"
   ]
  },
  {
   "cell_type": "code",
   "execution_count": null,
   "metadata": {},
   "outputs": [],
   "source": [
    "\n",
    "# Function 1: Generate random points along a line with added noise\n",
    "# This function is already implemented for you.\n",
    "\n",
    "def generate_random_points(num_points, slope, intercept):\n",
    "    noise = np.random.normal(0, LINEAR_REGRESSION_ERROR_RANGE, num_points)\n",
    "    x_coords = np.random.uniform(-PARAMETER, PARAMETER, num_points)\n",
    "    y_coords = slope * x_coords + intercept + noise\n",
    "    return np.column_stack((x_coords, y_coords))\n"
   ]
  },
  {
   "cell_type": "code",
   "execution_count": null,
   "metadata": {},
   "outputs": [],
   "source": [
    "\n",
    "# Function 2: Generate random lines by connecting two random points\n",
    "'''\n",
    "Instructions:\n",
    "- Write a function that generates a list of random lines.\n",
    "- Each line is represented as a list with a slope and intercept.\n",
    "- Both slope and intercept should be random floats in the range [-PARAMETER, PARAMETER].\n",
    "'''\n",
    "\n",
    "def generate_random_lines(num_lines):\n",
    "    # Replace the pass statement with your implementation.\n",
    "    pass\n"
   ]
  },
  {
   "cell_type": "code",
   "execution_count": null,
   "metadata": {},
   "outputs": [],
   "source": [
    "\n",
    "# Function 3: Measure the error (badness) of all lines using vectorized operations\n",
    "'''\n",
    "Instructions:\n",
    "- Write a function that calculates how well a line fits the points.\n",
    "- Use the formula: error = sum((predicted_y - actual_y) ** 2) for each line.\n",
    "- Use NumPy for vectorized calculations.\n",
    "'''\n",
    "\n",
    "def calculate_errors(lines, points):\n",
    "    # Replace the pass statement with your implementation.\n",
    "    pass\n"
   ]
  },
  {
   "cell_type": "code",
   "execution_count": null,
   "metadata": {},
   "outputs": [],
   "source": [
    "\n",
    "# Function 4: Enhanced mutation function\n",
    "'''\n",
    "Instructions:\n",
    "- Write a function that randomly mutates a line (its slope and intercept).\n",
    "- Use the MUTATION_RATE to decide whether to mutate each parameter.\n",
    "- Mutate by adding a small random value proportional to the current value.\n",
    "'''\n",
    "\n",
    "def mutate(line, mutation_rate=MUTATION_RATE):\n",
    "    # Replace the pass statement with your implementation.\n",
    "    pass\n"
   ]
  },
  {
   "cell_type": "code",
   "execution_count": null,
   "metadata": {},
   "outputs": [],
   "source": [
    "\n",
    "# Function 5: Create the next generation using crossover, mutation, and elitism\n",
    "'''\n",
    "Instructions:\n",
    "- Write a function to create the next generation of lines.\n",
    "- Retain the best `num_elites` lines as is.\n",
    "- Perform crossover by mixing the slope of one parent with the intercept of another.\n",
    "- Apply mutations to the offspring.\n",
    "- Ensure the next generation has the same number of lines as the current generation.\n",
    "'''\n",
    "\n",
    "def create_next_generation(lines, points, num_elites=NUM_ELITES):\n",
    "    # Replace the pass statement with your implementation.\n",
    "    pass\n"
   ]
  },
  {
   "cell_type": "code",
   "execution_count": null,
   "metadata": {},
   "outputs": [],
   "source": [
    "\n",
    "# Function 6: Visualization function\n",
    "# This has been implemented for you\n",
    "\n",
    "def plot_progress(points, actual_line, predicted_line, generation):\n",
    "    x = points[:, 0]\n",
    "    y = points[:, 1]\n",
    "\n",
    "    plt.figure(figsize=(8, 6))\n",
    "    plt.scatter(x, y, label=\"Data Points\", color=\"blue\")\n",
    "    \n",
    "    x_fit = np.linspace(min(x), max(x), 100)\n",
    "    y_actual = actual_line[0] * x_fit + actual_line[1]\n",
    "    y_predicted = predicted_line[0] * x_fit + predicted_line[1]\n",
    "\n",
    "    plt.plot(x_fit, y_actual, label=\"Actual Line\", color=\"green\", linewidth=2)\n",
    "    plt.plot(x_fit, y_predicted, label=f\"Predicted Line (Gen {generation})\", color=\"red\", linestyle=\"dashed\")\n",
    "    \n",
    "    plt.xlabel(\"X\")\n",
    "    plt.ylabel(\"Y\")\n",
    "    plt.title(\"Genetic Algorithm Progress\")\n",
    "    plt.legend()\n",
    "    plt.show()\n",
    "    "
   ]
  },
  {
   "cell_type": "code",
   "execution_count": null,
   "metadata": {},
   "outputs": [],
   "source": [
    "\n",
    "# Function 7: Main genetic algorithm implementation\n",
    "'''\n",
    "Instructions:\n",
    "- Write the main loop of the genetic algorithm.\n",
    "- Initialize a generation of random lines.\n",
    "- Iterate through generations, calculating errors and selecting the best line.\n",
    "- Break the loop if the best error is within the acceptable range (defined by ERROR_RANGE).\n",
    "- Use the `plot_progress` function to visualize progress in each generation.\n",
    "'''\n",
    "\n",
    "def genetic_algorithm():\n",
    "    # Generate test data\n",
    "    num_points = NUM_POINTS\n",
    "    true_slope = random.uniform(-PARAMETER, PARAMETER)\n",
    "    true_intercept = random.uniform(-PARAMETER, PARAMETER)\n",
    "    test_points = generate_random_points(num_points, true_slope, true_intercept)\n",
    "    actual_line = [true_slope, true_intercept]\n",
    "    \n",
    "    print(\"Actual Line:\", actual_line)\n",
    "    \n",
    "    # Initialize your generation and implement the main loop.\n",
    "    pass\n"
   ]
  },
  {
   "cell_type": "code",
   "execution_count": null,
   "metadata": {},
   "outputs": [],
   "source": [
    "\n",
    "# Run the algorithm\n",
    "genetic_algorithm()"
   ]
  }
 ],
 "metadata": {
  "kernelspec": {
   "display_name": ".venv",
   "language": "python",
   "name": "python3"
  },
  "language_info": {
   "codemirror_mode": {
    "name": "ipython",
    "version": 3
   },
   "file_extension": ".py",
   "mimetype": "text/x-python",
   "name": "python",
   "nbconvert_exporter": "python",
   "pygments_lexer": "ipython3",
   "version": "3.13.0"
  }
 },
 "nbformat": 4,
 "nbformat_minor": 2
}
