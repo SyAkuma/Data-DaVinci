{
 "cells": [
  {
   "cell_type": "code",
   "execution_count": 6,
   "metadata": {},
   "outputs": [],
   "source": [
    "# Importing the most important library numpy\n",
    "# Numpy is preffered over python lists since most of its implementations are faster (the functions are tied closer with hardware)\n",
    "import numpy as np"
   ]
  },
  {
   "cell_type": "markdown",
   "metadata": {},
   "source": [
    "### Run the following to grasp the basics of numpy"
   ]
  },
  {
   "cell_type": "code",
   "execution_count": 38,
   "metadata": {},
   "outputs": [
    {
     "name": "stdout",
     "output_type": "stream",
     "text": [
      "1D Array: [1 2 3]\n",
      "2D Array:\n",
      " [[1 2 3]\n",
      " [4 5 6]]\n",
      "Zeros Array:\n",
      " [[0. 0. 0. 0. 0. 0. 0. 0. 0. 0. 0. 0. 0. 0. 0. 0. 0. 0. 0. 0.]\n",
      " [0. 0. 0. 0. 0. 0. 0. 0. 0. 0. 0. 0. 0. 0. 0. 0. 0. 0. 0. 0.]]\n",
      "Ones Array:\n",
      " [[1. 1.]\n",
      " [1. 1.]\n",
      " [1. 1.]]\n",
      "Range Array:\n",
      " [0 3 6 9]\n",
      "Linspace Array:\n",
      " [0.    0.125 0.25  0.375 0.5   0.625 0.75  0.875 1.   ]\n",
      "Random Array:\n",
      " [[0.0970209  0.67203573 0.38065281 0.33538653 0.91600335 0.01164081\n",
      "  0.24337681 0.18364228 0.17449691]\n",
      " [0.80559399 0.31524002 0.08893922 0.1126271  0.18083342 0.9864169\n",
      "  0.16868618 0.78820561 0.34320771]\n",
      " [0.7590471  0.07902765 0.90385531 0.81810365 0.97535011 0.56703321\n",
      "  0.60818829 0.47177904 0.596395  ]]\n"
     ]
    }
   ],
   "source": [
    "# 1D array\n",
    "arr1 = np.array([1, 2, 3])\n",
    "print(\"1D Array:\", arr1)\n",
    "\n",
    "# 2D array\n",
    "arr2 = np.array([[1, 2, 3], [4, 5, 6]])\n",
    "print(\"2D Array:\\n\", arr2)\n",
    "\n",
    "# Array of zeros\n",
    "zeros = np.zeros((2, 20))\n",
    "print(\"Zeros Array:\\n\", zeros)\n",
    "\n",
    "# Array of ones\n",
    "ones = np.ones((3, 2))\n",
    "print(\"Ones Array:\\n\", ones)\n",
    "\n",
    "# Array with a range of values\n",
    "range_arr = np.arange(0, 10, 3)\n",
    "print(\"Range Array:\\n\", range_arr)\n",
    "\n",
    "# Array with equally spaced values\n",
    "linspace_arr = np.linspace(0, 1,9)\n",
    "print(\"Linspace Array:\\n\", linspace_arr)\n",
    "\n",
    "# Random array\n",
    "random_arr = np.random.rand(3, 9)  # Uniform distribution\n",
    "print(\"Random Array:\\n\", random_arr)\n"
   ]
  },
  {
   "cell_type": "code",
   "execution_count": 32,
   "metadata": {},
   "outputs": [
    {
     "name": "stdout",
     "output_type": "stream",
     "text": [
      "Shape: (3, 3)\n",
      "Size: 9\n",
      "Data Type: float64\n",
      "Number of Dimensions: 2\n"
     ]
    }
   ],
   "source": [
    "# In a numpy array, all the elements must be homogenous (of the same data type)\n",
    "arr = np.array([[1.0, 2.9, 3.8], [4.9, 5.0, 6.9],[2.9,9.0,8.0]])\n",
    "\n",
    "print(\"Shape:\", arr.shape)  # Dimensions\n",
    "print(\"Size:\", arr.size)  # Total number of elements\n",
    "print(\"Data Type:\", arr.dtype)  # Type of elements\n",
    "print(\"Number of Dimensions:\", arr.ndim)  # Number of dimensions"
   ]
  },
  {
   "cell_type": "code",
   "execution_count": 4,
   "metadata": {},
   "outputs": [
    {
     "name": "stdout",
     "output_type": "stream",
     "text": [
      "Element at [0, 1]: 2\n",
      "First row: [1 2 3]\n",
      "First column: [1 4]\n",
      "Subarray:\n",
      " [[2 3]\n",
      " [5 6]]\n"
     ]
    }
   ],
   "source": [
    "arr = np.array([[1, 2, 3], [4, 5, 6]])\n",
    "\n",
    "# Accessing elements\n",
    "print(\"Element at [0, 1]:\", arr[0, 1])  # Row 0, Column 1\n",
    "\n",
    "# Slicing\n",
    "print(\"First row:\", arr[0, :])  # All columns of the first row\n",
    "print(\"First column:\", arr[:, 0])  # All rows of the first column\n",
    "print(\"Subarray:\\n\", arr[0:2, 1:3])  # Rows 0-1 and Columns 1-2"
   ]
  },
  {
   "cell_type": "code",
   "execution_count": 37,
   "metadata": {},
   "outputs": [
    {
     "name": "stdout",
     "output_type": "stream",
     "text": [
      "Addition: [5 7 9]\n",
      "Multiplication: [ 4 10 18]\n",
      "Division: [4.  2.5 2. ]\n",
      "Multiply by scalar: [ 8 16 24]\n",
      "Square root: [1.         1.41421356 1.73205081]\n",
      "Exponential: [ 2.71828183  7.3890561  20.08553692]\n"
     ]
    }
   ],
   "source": [
    "arr1 = np.array([1, 2, 3])\n",
    "arr2 = np.array([4, 5, 6])\n",
    "\n",
    "# Element-wise operations\n",
    "print(\"Addition:\", arr1 + arr2)\n",
    "print(\"Multiplication:\", arr1 * arr2)\n",
    "print(\"Division:\", arr2 / arr1)\n",
    "\n",
    "# Broadcasting\n",
    "scalar = 2\n",
    "print(\"Multiply by scalar:\", arr1 * 8)\n",
    "\n",
    "# Mathematical functions\n",
    "print(\"Square root:\", np.sqrt(arr1))\n",
    "print(\"Exponential:\", np.exp(arr1))"
   ]
  },
  {
   "cell_type": "code",
   "execution_count": 6,
   "metadata": {},
   "outputs": [
    {
     "name": "stdout",
     "output_type": "stream",
     "text": [
      "Reshaped Array:\n",
      " [[1 2]\n",
      " [3 4]\n",
      " [5 6]]\n",
      "Transposed Array:\n",
      " [[1 4]\n",
      " [2 5]\n",
      " [3 6]]\n"
     ]
    }
   ],
   "source": [
    "arr = np.array([[1, 2, 3], [4, 5, 6]])\n",
    "\n",
    "# Reshape\n",
    "reshaped = arr.reshape((3, 2))\n",
    "print(\"Reshaped Array:\\n\", reshaped)\n",
    "\n",
    "# Transpose\n",
    "transposed = arr.T\n",
    "print(\"Transposed Array:\\n\", transposed)"
   ]
  },
  {
   "cell_type": "code",
   "execution_count": 7,
   "metadata": {},
   "outputs": [
    {
     "name": "stdout",
     "output_type": "stream",
     "text": [
      "Stacked Vertically:\n",
      " [[1 2 3]\n",
      " [4 5 6]]\n",
      "Stacked Horizontally: [1 2 3 4 5 6]\n",
      "Split Array: [array([4]), array([5]), array([6])]\n"
     ]
    }
   ],
   "source": [
    "arr1 = np.array([1, 2, 3])\n",
    "arr2 = np.array([4, 5, 6])\n",
    "\n",
    "# Stacking\n",
    "stacked = np.vstack((arr1, arr2))  # Vertical stack\n",
    "print(\"Stacked Vertically:\\n\", stacked)\n",
    "\n",
    "hstacked = np.hstack((arr1, arr2))  # Horizontal stack\n",
    "print(\"Stacked Horizontally:\", hstacked)\n",
    "\n",
    "# Splitting\n",
    "split = np.split(arr2, 3)  # Split into 3 parts\n",
    "print(\"Split Array:\", split)"
   ]
  },
  {
   "cell_type": "code",
   "execution_count": 8,
   "metadata": {},
   "outputs": [
    {
     "name": "stdout",
     "output_type": "stream",
     "text": [
      "Even Numbers: [2 4 6]\n",
      "Masking: [False  True False  True False  True]\n",
      "Numbers greater than 3: [4 5 6]\n"
     ]
    }
   ],
   "source": [
    "arr = np.array([1, 2, 3, 4, 5, 6])\n",
    "\n",
    "# Boolean indexing\n",
    "even = arr[arr % 2 == 0]\n",
    "print(\"Even Numbers:\", even)\n",
    "# Masking is a common technique used\n",
    "print(\"Masking:\", arr % 2 == 0)\n",
    "\n",
    "# Filtering\n",
    "filtered = arr[arr > 3]\n",
    "print(\"Numbers greater than 3:\", filtered)"
   ]
  },
  {
   "cell_type": "code",
   "execution_count": 9,
   "metadata": {},
   "outputs": [
    {
     "name": "stdout",
     "output_type": "stream",
     "text": [
      "Sum: 21\n",
      "Mean: 3.5\n",
      "Maximum: 6\n",
      "Minimum: 1\n",
      "Standard Deviation: 1.707825127659933\n"
     ]
    }
   ],
   "source": [
    "arr = np.array([[1, 2, 3], [4, 5, 6]])\n",
    "\n",
    "print(\"Sum:\", np.sum(arr))\n",
    "print(\"Mean:\", np.mean(arr))\n",
    "print(\"Maximum:\", np.max(arr))\n",
    "print(\"Minimum:\", np.min(arr))\n",
    "print(\"Standard Deviation:\", np.std(arr))"
   ]
  },
  {
   "cell_type": "markdown",
   "metadata": {},
   "source": [
    "### Some assignment problems"
   ]
  },
  {
   "cell_type": "code",
   "execution_count": 10,
   "metadata": {},
   "outputs": [
    {
     "data": {
      "text/plain": [
       "'\\nCreate an array of 18 random elements of shape (3, 6) and add the array [0, 0, 2, 4, 5, 3] to each row.\\nThen reshape it to a (9, 2) array and take its transpose. \\nFind the locations where all elements are greater than the mean of the array and print it\\n'"
      ]
     },
     "execution_count": 10,
     "metadata": {},
     "output_type": "execute_result"
    }
   ],
   "source": [
    "# Assignment 1\n",
    "'''\n",
    "Create an array of 18 random elements of shape (3, 6) and add the array [0, 0, 2, 4, 5, 3] to each row.\n",
    "Then reshape it to a (9, 2) array and take its transpose. \n",
    "Find the locations where all elements are greater than the mean of the array and print it\n",
    "'''"
   ]
  },
  {
   "cell_type": "code",
   "execution_count": 102,
   "metadata": {},
   "outputs": [
    {
     "name": "stdout",
     "output_type": "stream",
     "text": [
      "Random 3,6 generated array:\n",
      " [[0.81969347 0.94524519 0.40589305 0.28277176 0.98007519 0.6369102 ]\n",
      " [0.66646691 0.8415175  0.31596033 0.63575168 0.99227554 0.06482726]\n",
      " [0.93518632 0.12020171 0.67676628 0.64906557 0.69752964 0.55183541]]\n",
      "Array after all operations:\n",
      " [[0.81969347 2.40589305 5.98007519 0.66646691 2.31596033 5.99227554\n",
      "  0.93518632 2.67676628 5.69752964]\n",
      " [0.94524519 4.28277176 3.6369102  0.8415175  4.63575168 3.06482726\n",
      "  0.12020171 4.64906557 3.55183541]]\n",
      "mean of array:\n",
      " 2.956554055413993\n",
      "Final locations in (row,col) format:\n",
      " [(0, 2), (0, 5), (0, 8), (1, 1), (1, 2), (1, 4), (1, 5), (1, 7), (1, 8)]\n"
     ]
    }
   ],
   "source": [
    "# TODO\n",
    "ran = np.random.rand(3, 6)\n",
    "print (\"Random 3,6 generated array:\\n\",ran)\n",
    "arr=np.array([0, 0, 2, 4, 5, 3])\n",
    "ran=ran+arr\n",
    "ran=ran.reshape((9, 2))\n",
    "ran=ran.T\n",
    "print(\"Array after all operations:\\n\",ran)\n",
    "mean=np.mean(ran)\n",
    "print(\"mean of array:\\n\",mean)\n",
    "locations = [(row, col) for row in range(ran.shape[0]) for col in range(ran.shape[1]) if ran[row, col] > mean]\n",
    "print(\"Final locations in (row,col) format:\\n\",locations)"
   ]
  },
  {
   "cell_type": "code",
   "execution_count": 91,
   "metadata": {},
   "outputs": [
    {
     "data": {
      "text/plain": [
       "'\\nCreate an array of length 20 that models a poisson distribution and center it around the mean and normalise it by dividing it by the standard deviation\\n(Centering around some value \"a\" is subtracting \"a\" from each element and normalising is to divide it by some factor)\\n'"
      ]
     },
     "execution_count": 91,
     "metadata": {},
     "output_type": "execute_result"
    }
   ],
   "source": [
    "# Assignment 2\n",
    "'''\n",
    "Create an array of length 20 that models a poisson distribution and center it around the mean and normalise it by dividing it by the standard deviation\n",
    "(Centering around some value \"a\" is subtracting \"a\" from each element and normalising is to divide it by some factor)\n",
    "'''"
   ]
  },
  {
   "cell_type": "code",
   "execution_count": 134,
   "metadata": {},
   "outputs": [
    {
     "name": "stdout",
     "output_type": "stream",
     "text": [
      "[-0.88261207 -1.11186196 -0.4241123   0.26363737  0.49288726  0.26363737\n",
      "  1.8683866   0.03438748 -2.4873613  -2.02886152 -0.4241123   0.49288726\n",
      "  0.26363737  0.95138704  0.72213715 -0.19486241  0.03438748  0.95138704\n",
      "  0.49288726  0.72213715]\n"
     ]
    }
   ],
   "source": [
    "# TODO\n",
    "# Hint use np.random.poisson\n",
    "a=22\n",
    "arr=np.random.poisson(a,20)\n",
    "mean=np.mean(arr)\n",
    "arr=arr-mean\n",
    "std=np.std(arr)\n",
    "arr=arr/std\n",
    "print(arr)"
   ]
  }
 ],
 "metadata": {
  "kernelspec": {
   "display_name": "Python 3 (ipykernel)",
   "language": "python",
   "name": "python3"
  },
  "language_info": {
   "codemirror_mode": {
    "name": "ipython",
    "version": 3
   },
   "file_extension": ".py",
   "mimetype": "text/x-python",
   "name": "python",
   "nbconvert_exporter": "python",
   "pygments_lexer": "ipython3",
   "version": "3.13.0"
  }
 },
 "nbformat": 4,
 "nbformat_minor": 4
}
