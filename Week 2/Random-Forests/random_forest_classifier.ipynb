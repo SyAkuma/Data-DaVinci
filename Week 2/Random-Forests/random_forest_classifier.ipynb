{
 "cells": [
  {
   "cell_type": "code",
   "execution_count": 20,
   "metadata": {},
   "outputs": [],
   "source": [
    "from sklearn.datasets import load_iris\n",
    "from sklearn.tree import DecisionTreeClassifier\n",
    "from sklearn.model_selection import train_test_split\n",
    "import pandas as pd\n",
    "import numpy as np\n",
    "\n",
    "# Using a popular classification library\n",
    "iris = load_iris()\n",
    "data = pd.DataFrame(data=iris.data, columns=iris.feature_names)\n",
    "data['species'] = iris.target"
   ]
  },
  {
   "cell_type": "code",
   "execution_count": 33,
   "metadata": {},
   "outputs": [],
   "source": [
    "class RandomForestClassifier:\n",
    "    def __init__(self, n_estimators: int = 10, max_depth: int = 5, min_samples_leaf: int = 3, max_features: int | None = None):\n",
    "        self.n_estimators = n_estimators # Number of decision trees\n",
    "        self.max_depth = max_depth # Max depth of each decision tree\n",
    "        self.min_samples_leaf = min_samples_leaf # Min samples for a node to be declared as a leaf\n",
    "        self.max_features = max_features # Optional input which restricts the max number of features a tree can be trained on\n",
    "        self.trees: list = [] # Stores the trees and corresponding features used\n",
    "\n",
    "\n",
    "    def fit(self, X: np.ndarray, y: np.ndarray) -> None:\n",
    "        '''\n",
    "        Trains the random forest by training multiple decision trees.\n",
    "\n",
    "        For each decision tree, choose a random sample of data points\n",
    "        and a random set of features to train it on. This ensures that\n",
    "        no feature is dominant and reduces overfitting. The samples\n",
    "        shared between trees can overlap (choosing with replacement).\n",
    "        '''\n",
    "\n",
    "        self.trees = [] # Initializing an empty list\n",
    "        n_samples, n_features = X.shape\n",
    "        self.max_features = self.max_features or int(np.sqrt(n_features)) # If no value is given, reverts to default (sqrt)\n",
    "\n",
    "        for _ in range(self.n_estimators):\n",
    "            # TODO 1: Take random samples of the dataset from here (Bootstrapping)\n",
    "            # YOUR CODE HERE\n",
    "            ranrows=np.random.choice(range(n_samples),size=n_samples,replace=True)\n",
    "            X_sample, y_sample = X[ranrows,:], y[ranrows] # Fill with appropriate values\n",
    "            tree = DecisionTreeClassifier(max_depth=self.max_depth, min_samples_leaf=self.min_samples_leaf)\n",
    "            # TODO 2: Train the decision tree using random features\n",
    "            # YOUR CODE HERE\n",
    "            numfe=np.random.randint(1,self.max_features)\n",
    "            tree_features = np.random.choice(range(n_features),size=numfe,replace=False) # Indices of the required features\n",
    "            X_sample_subfeatures = X_sample[:,tree_features] # Fill with appropriate value (remember to use max_features)\n",
    "            # Fit the tree using the subset of data\n",
    "            tree.fit(X_sample_subfeatures,y_sample)\n",
    "            self.trees.append((tree, tree_features))\n",
    "\n",
    "\n",
    "    def predict(self, X: np.ndarray) -> np.ndarray:\n",
    "        '''\n",
    "        Predicts class labels for the given input data.\n",
    "\n",
    "        Pass the given data through all decision trees in self.trees,\n",
    "        then choose the class that is given by majority of the trees.\n",
    "        Use only the features that the tree was trained on -\n",
    "        (the feature indices are also stored in the list self.trees)\n",
    "        '''\n",
    "        # TODO 3: Complete the predict function\n",
    "        # YOUR CODE HERE\n",
    "        answers=list()\n",
    "        for tree in self.trees:\n",
    "            x_test=X[:,tree[1]]\n",
    "            midstep=tree[0].predict(x_test)\n",
    "            answers.append(midstep)\n",
    "        return answers"
   ]
  },
  {
   "cell_type": "code",
   "execution_count": 39,
   "metadata": {},
   "outputs": [],
   "source": [
    "# TODO 3: Fill in appropriate values, large value of estimators or depth could lead to\n",
    "# overfitting, while large values of max_features and min_samples_leaf could lead to underfitting\n",
    "model = RandomForestClassifier(n_estimators=10, max_depth=5, min_samples_leaf=3, max_features=4)\n",
    "X, y = data.drop(columns='species').to_numpy(),data['species'].to_numpy()# Use the iris data set that was initialized in the first code block"
   ]
  },
  {
   "cell_type": "code",
   "execution_count": 46,
   "metadata": {},
   "outputs": [
    {
     "name": "stdout",
     "output_type": "stream",
     "text": [
      "Your model has an accuracy of 96.66666666666667%.\n"
     ]
    }
   ],
   "source": [
    "X_train, X_test, y_train, y_test = train_test_split(X, y, test_size=0.2, random_state=42)\n",
    "model.fit(X_train, y_train)\n",
    "\n",
    "y_pred = model.predict(X_test)\n",
    "accuracy = np.mean(y_pred == y_test)\n",
    "print(f\"Your model has an accuracy of {100 * accuracy}%.\")"
   ]
  },
  {
   "cell_type": "code",
   "execution_count": null,
   "metadata": {},
   "outputs": [],
   "source": []
  }
 ],
 "metadata": {
  "kernelspec": {
   "display_name": ".venv",
   "language": "python",
   "name": "python3"
  },
  "language_info": {
   "codemirror_mode": {
    "name": "ipython",
    "version": 3
   },
   "file_extension": ".py",
   "mimetype": "text/x-python",
   "name": "python",
   "nbconvert_exporter": "python",
   "pygments_lexer": "ipython3",
   "version": "3.13.0"
  }
 },
 "nbformat": 4,
 "nbformat_minor": 2
}
